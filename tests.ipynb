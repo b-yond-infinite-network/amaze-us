{
 "cells": [
  {
   "cell_type": "markdown",
   "metadata": {},
   "source": [
    "# DB"
   ]
  },
  {
   "cell_type": "markdown",
   "metadata": {},
   "source": [
    "#### tests"
   ]
  },
  {
   "cell_type": "code",
   "execution_count": null,
   "metadata": {},
   "outputs": [],
   "source": [
    "# APP ROUGH DRAFT\n",
    "import logging\n",
    "import coloredlogs\n",
    "\n",
    "import yaml\n",
    "from flask import Flask\n",
    "\n",
    "from src.db_model.db_models import db\n",
    "from src.schedule import schedule_bp, bus_bp, driver_bp\n",
    "from src.constants.http_status_codes import HTTP_200_OK\n",
    "\n",
    "coloredlogs.install(level='DEBUG')\n",
    "\n",
    "\n",
    "log = logging.getLogger(__name__)\n",
    "\n",
    "\n",
    "def create_app():\n",
    "    app = Flask(__name__, instance_relative_config=True)\n",
    "\n",
    "    with open('volume/config/flask.yml', mode='r') as f:\n",
    "        app_config: dict = yaml.load(f, Loader=yaml.Loader)\n",
    "\n",
    "    app.config.from_mapping(app_config)\n",
    "    app.url_map.strict_slashes = False\n",
    "\n",
    "    log.debug(f'using {app_config[\"SQLALCHEMY_DATABASE_URI\"]}')\n",
    "\n",
    "    db.app = app\n",
    "    db.init_app(app=app)\n",
    "\n",
    "    app.register_blueprint(schedule_bp)\n",
    "    app.register_blueprint(bus_bp)\n",
    "    app.register_blueprint(driver_bp)\n",
    "\n",
    "    @app.get('/test')\n",
    "    def test():\n",
    "        return {'test': 'good'}, HTTP_200_OK\n",
    "\n",
    "    return app"
   ]
  },
  {
   "cell_type": "code",
   "execution_count": null,
   "metadata": {},
   "outputs": [],
   "source": [
    "# DB CREATE ALL\n",
    "db.create_all()"
   ]
  },
  {
   "cell_type": "markdown",
   "metadata": {},
   "source": [
    "#### populate"
   ]
  },
  {
   "cell_type": "code",
   "execution_count": 2,
   "metadata": {},
   "outputs": [],
   "source": [
    "from random import randint\n",
    "import random\n",
    "\n",
    "random.seed(1)"
   ]
  },
  {
   "cell_type": "code",
   "execution_count": 6,
   "metadata": {},
   "outputs": [
    {
     "data": {
      "text/plain": [
       "1000"
      ]
     },
     "execution_count": 6,
     "metadata": {},
     "output_type": "execute_result"
    }
   ],
   "source": [
    "# POPULATE DRIVERS\n",
    "FIRST_NAMES = [\n",
    "    'Salim',\n",
    "    'Arooj',\n",
    "    'Kaiden',\n",
    "    'Rhiana',\n",
    "    'Kealan',\n",
    "    'Myron',\n",
    "    'Korey',\n",
    "    'Krisha',\n",
    "    'Irene',\n",
    "    'Annaliese',\n",
    "    'Komal',\n",
    "    'Ayesha',\n",
    "    'Todd',\n",
    "    'Elora',\n",
    "    'Judy',\n",
    "    'Zane',\n",
    "    'Arlene',\n",
    "    'Rose',\n",
    "    'Herbie',\n",
    "    'Kean',\n",
    "    'Dustin',\n",
    "    'Soraya',\n",
    "    'Merlin',\n",
    "    'Zakariah',\n",
    "    'Danielle',\n",
    "    'Kasim',\n",
    "    'Marie',\n",
    "    'Keely',\n",
    "    'Toni',\n",
    "    'Kerys',\n",
    "    'Orlando',\n",
    "    'Axl',\n",
    "    'Harri',\n",
    "    'Tonisha',\n",
    "    'Farah',\n",
    "    'Mikaela',\n",
    "    'Raymond',\n",
    "    'Effie',\n",
    "    'Agnes',\n",
    "    'Francis',\n",
    "    'Natan',\n",
    "    'Amber',\n",
    "    'Myah',\n",
    "    'Stefano',\n",
    "    'Hafsah',\n",
    "    'Ozan',\n",
    "    'Loui',\n",
    "    'Jarred',\n",
    "    'Claudia',\n",
    "    'Neo',\n",
    "    'Shirley',\n",
    "    'Sameer',\n",
    "    'Jago',\n",
    "    'Ridwan',\n",
    "    'Elisha',\n",
    "    'Abul',\n",
    "    'Alishia',\n",
    "    'April',\n",
    "    'Kristopher',\n",
    "    'Harmony',\n",
    "    'Hibah',\n",
    "    'Anne',\n",
    "    'Angel',\n",
    "    'Calista',\n",
    "    'Dina',\n",
    "    'Kacie',\n",
    "    'Maggie',\n",
    "    'Miriam',\n",
    "    'Catrin',\n",
    "    'Elize',\n",
    "    'Clementine',\n",
    "    'Antonina',\n",
    "    'Jamaal',\n",
    "    'Affan',\n",
    "    'Lexie',\n",
    "    'Donnell',\n",
    "    'Rafe',\n",
    "    'Kristian',\n",
    "    'Olivia',\n",
    "    'Yusra',\n",
    "    'Bronwyn',\n",
    "    'Joel',\n",
    "    'Yvie',\n",
    "    'Beatrix',\n",
    "    'Millie',\n",
    "    'Margie',\n",
    "    'Eva',\n",
    "    'Jacque',\n",
    "    'Collette',\n",
    "    'Roscoe',\n",
    "    'Esmee',\n",
    "    'Skyla',\n",
    "    'Gino',\n",
    "    'Tim',\n",
    "    'Ianis',\n",
    "    'Jamie',\n",
    "    'Haider',\n",
    "    'Vinny',\n",
    "    'Ceara',\n",
    "    'Kaelan',\n",
    "]\n",
    "\n",
    "LAST_NAMES = [\n",
    "    'Cowan',\n",
    "    'Knights',\n",
    "    'Carpenter',\n",
    "    'Mahoney',\n",
    "    'Jarvis',\n",
    "    'Sinclair',\n",
    "    'Wilson',\n",
    "    'Nunez',\n",
    "    'Lowry',\n",
    "    'Robson',\n",
    "    'Coffey',\n",
    "    'Cabrera',\n",
    "    'Glover',\n",
    "    'Brett',\n",
    "    'Whitaker',\n",
    "    'Ramirez',\n",
    "    'Novak',\n",
    "    'Trujillo',\n",
    "    'Mcbride',\n",
    "    'Tapia',\n",
    "    'Sellers',\n",
    "    'Maddox',\n",
    "    'Barker',\n",
    "    'Silva',\n",
    "    'Stephens',\n",
    "    'Palmer',\n",
    "    'Branch',\n",
    "    'Lane',\n",
    "    'Tierney',\n",
    "    'Griffiths',\n",
    "    'Perez',\n",
    "    'Howells',\n",
    "    'Smart',\n",
    "    'Drew',\n",
    "    'Robinson',\n",
    "    'Peters',\n",
    "    'Hutchings',\n",
    "    'Couch',\n",
    "    'Grimes',\n",
    "    'Nicholson',\n",
    "    'Lott',\n",
    "    'Watson',\n",
    "    'Davison',\n",
    "    'Knox',\n",
    "    'Shields',\n",
    "    'Fields',\n",
    "    'Noble',\n",
    "    'Dominguez',\n",
    "    'Haney',\n",
    "    'Fry',\n",
    "    'Pope',\n",
    "    'Kenny',\n",
    "    'Brook',\n",
    "    'Mccaffrey',\n",
    "    'Harding',\n",
    "    'Irving',\n",
    "    'Bradshaw',\n",
    "    'Salt',\n",
    "    'Crouch',\n",
    "    'Taylor',\n",
    "    'Acevedo',\n",
    "    'Velazquez',\n",
    "    'Chester',\n",
    "    'Salgado',\n",
    "    'Frey',\n",
    "    'Barron',\n",
    "    'Tait',\n",
    "    'Callaghan',\n",
    "    'Wilkinson',\n",
    "    'Millington',\n",
    "    'Tate',\n",
    "    'Dennis',\n",
    "    'Cardenas',\n",
    "    'Riddle',\n",
    "    'Gonzalez',\n",
    "    'Valencia',\n",
    "    'Kinney',\n",
    "    'Akhtar',\n",
    "    'Zuniga',\n",
    "    'Mcintosh',\n",
    "    'Hardin',\n",
    "    'Whitehouse',\n",
    "    'Eaton',\n",
    "    'Edwards',\n",
    "    'Levine',\n",
    "    'Grey',\n",
    "    'Hoover',\n",
    "    'Blundell',\n",
    "    'Lowe',\n",
    "    'Lugo',\n",
    "    'Valentine',\n",
    "    'Townsend',\n",
    "    'Mcconnell',\n",
    "    'Yoder',\n",
    "    'Keeling',\n",
    "    'Kaiser',\n",
    "    'Morrow',\n",
    "    'Lovell',\n",
    "    'Medina',\n",
    "    'Webster',\n",
    "]\n",
    "\n",
    "len_fn, len_ln = len(FIRST_NAMES), len(LAST_NAMES)\n",
    "\n",
    "NUM_NAMES = 1000\n",
    "\n",
    "seen_names = set()\n",
    "\n",
    "for i in range(NUM_NAMES):\n",
    "    fn = FIRST_NAMES[randint(0, len_fn - 1)]\n",
    "    ln = LAST_NAMES[randint(0, len_ln - 1)]\n",
    "\n",
    "    while (fn, ln) in seen_names:\n",
    "        fn = FIRST_NAMES[randint(0, len_fn - 1)]\n",
    "        ln = LAST_NAMES[randint(0, len_ln - 1)]\n",
    "\n",
    "    seen_names.add((fn, ln))\n",
    "\n",
    "len(seen_names)"
   ]
  },
  {
   "cell_type": "code",
   "execution_count": 58,
   "metadata": {},
   "outputs": [],
   "source": [
    "# DRIVER EMAILS AND SSN\n",
    "DOMAIN_NAMES = [\n",
    "    'hotmail.com',\n",
    "    'gmail.com',\n",
    "    'oracle.com',\n",
    "    'amazon.com',\n",
    "    'yahoo.ca'\n",
    "]\n",
    "len_dn = len(DOMAIN_NAMES)\n",
    "\n",
    "EMAILS = [\n",
    "    f'{fn[:5].lower()}_{ln.lower()}@{DOMAIN_NAMES[randint(0, len_dn - 1)]}'\n",
    "    for fn, ln in list(seen_names)\n",
    "]\n",
    "len(EMAILS)\n"
   ]
  },
  {
   "cell_type": "code",
   "execution_count": 62,
   "metadata": {},
   "outputs": [
    {
     "data": {
      "text/plain": [
       "1000"
      ]
     },
     "execution_count": 62,
     "metadata": {},
     "output_type": "execute_result"
    }
   ],
   "source": [
    "SSNs = [f'{n:0>10}' for n in range(0, 1000)]\n",
    "len(SSNs)"
   ]
  },
  {
   "cell_type": "code",
   "execution_count": 7,
   "metadata": {},
   "outputs": [
    {
     "data": {
      "text/plain": [
       "250"
      ]
     },
     "execution_count": 7,
     "metadata": {},
     "output_type": "execute_result"
    }
   ],
   "source": [
    "# POPULATE BUSES\n",
    "make_list = [\n",
    "    # ? source: https://gist.github.com/pcgeek86/78f4cad29dd16961ceeeee654127a0db\n",
    "    'Audi',\n",
    "    'Bentley',\n",
    "    'BMW',\n",
    "    'Bugatti',\n",
    "    'Cadillac',\n",
    "    'Chevrolet',\n",
    "    'Chrysler'\n",
    "]\n",
    "\n",
    "model_list = [\n",
    "    f'{i:0>2}' for i in range(1, 51)\n",
    "]\n",
    "\n",
    "NUM_BUSES = 250\n",
    "\n",
    "len_make, len_model = len(make_list), len(model_list)\n",
    "\n",
    "seen_buses = set()\n",
    "for i in range(NUM_BUSES):\n",
    "    make = make_list[randint(0, len_make - 1)]\n",
    "    model = f'{make[:2]}-{model_list[randint(0, len_model - 1)]}'\n",
    "\n",
    "    while (make, model) in seen_buses:\n",
    "        make = make_list[randint(0, len_make - 1)]\n",
    "        model = f'{make[:2]}-{model_list[randint(0, len_model - 1)]}'\n",
    "\n",
    "    seen_buses.add((make, model))\n",
    "len(seen_buses)"
   ]
  },
  {
   "cell_type": "code",
   "execution_count": 42,
   "metadata": {},
   "outputs": [],
   "source": [
    "# POPULATE SCHEDULES\n",
    "from datetime import datetime, timedelta\n",
    "from src.common import DT_FMT\n",
    "\n",
    "DATE_FMT = '%Y-%m-%d'\n",
    "TIME_FMT = '%H:%M'\n",
    "DT_FMT = f'{DATE_FMT} {TIME_FMT}'\n",
    "\n",
    "DATE_START, DATE_END = '2022-01-01', '2022-02-01'\n",
    "TIME_START, TIME_END = '06:00', '02:00'\n",
    "\n",
    "NUM_SLOTS = int(1e6)"
   ]
  },
  {
   "cell_type": "code",
   "execution_count": 43,
   "metadata": {},
   "outputs": [
    {
     "data": {
      "text/plain": [
       "datetime.timedelta(days=365)"
      ]
     },
     "execution_count": 43,
     "metadata": {},
     "output_type": "execute_result"
    }
   ],
   "source": [
    "delta: timedelta = datetime.strptime(DATE_END, DATE_FMT) - datetime.strptime(DATE_START, DATE_FMT)"
   ]
  },
  {
   "cell_type": "code",
   "execution_count": 45,
   "metadata": {},
   "outputs": [],
   "source": [
    "dt_start, dt_end = list(map(lambda dt: datetime.strptime(dt, DATE_FMT), (DATE_START, DATE_END)))\n",
    "t_start, t_end = list(map(lambda t: datetime.strptime(t, TIME_FMT), (TIME_START, TIME_END)))\n"
   ]
  },
  {
   "cell_type": "code",
   "execution_count": null,
   "metadata": {},
   "outputs": [],
   "source": [
    "import pandas as pd\n"
   ]
  },
  {
   "cell_type": "code",
   "execution_count": null,
   "metadata": {
    "vscode": {
     "languageId": "sql"
    }
   },
   "outputs": [],
   "source": [
    "-- Active: 1658891856940@@127.0.0.1@3306@Schedules\n",
    "INSERT INTO bus (model, make) VALUES\n",
    "\t('M01', 'VW');"
   ]
  },
  {
   "cell_type": "code",
   "execution_count": null,
   "metadata": {
    "vscode": {
     "languageId": "sql"
    }
   },
   "outputs": [],
   "source": [
    "-- Active: 1658891856940@@127.0.0.1@3306@Schedules\n",
    "SELECT * FROM Schedules.bus;"
   ]
  },
  {
   "cell_type": "markdown",
   "metadata": {},
   "source": [
    "#### tests"
   ]
  },
  {
   "cell_type": "markdown",
   "metadata": {},
   "source": [
    "# API"
   ]
  }
 ],
 "metadata": {
  "interpreter": {
   "hash": "1927d0a06438f72a3516817cb001463fbd6ea9a280f5bbd132375b05c925fdc4"
  },
  "kernelspec": {
   "display_name": "Python 3.10.4 ('venv': venv)",
   "language": "python",
   "name": "python3"
  },
  "language_info": {
   "codemirror_mode": {
    "name": "ipython",
    "version": 3
   },
   "file_extension": ".py",
   "mimetype": "text/x-python",
   "name": "python",
   "nbconvert_exporter": "python",
   "pygments_lexer": "ipython3",
   "version": "3.10.4"
  },
  "orig_nbformat": 4
 },
 "nbformat": 4,
 "nbformat_minor": 2
}
