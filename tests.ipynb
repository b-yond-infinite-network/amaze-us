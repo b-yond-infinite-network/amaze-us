{
 "cells": [
  {
   "cell_type": "markdown",
   "metadata": {},
   "source": [
    "# SETUP"
   ]
  },
  {
   "cell_type": "code",
   "execution_count": null,
   "metadata": {},
   "outputs": [],
   "source": [
    "# CREATE PYTHON VIRTUAL ENV\n",
    "! python3 -m virtualenv venv\n",
    "\n",
    "! source ~/<PATH>/api_project/venv/bin/activate\n",
    "\n",
    "# INSIDE VIRTUAL ENV:\n",
    "! pip3 install -r requirements.txt"
   ]
  },
  {
   "cell_type": "markdown",
   "metadata": {},
   "source": [
    "# DB"
   ]
  },
  {
   "cell_type": "markdown",
   "metadata": {},
   "source": [
    "#### CREATE DB OBJECTS"
   ]
  },
  {
   "cell_type": "code",
   "execution_count": 3,
   "metadata": {},
   "outputs": [],
   "source": [
    "from random import randint, gauss\n",
    "import random\n",
    "\n",
    "random.seed(1)"
   ]
  },
  {
   "cell_type": "code",
   "execution_count": 17,
   "metadata": {},
   "outputs": [
    {
     "data": {
      "text/plain": [
       "1000"
      ]
     },
     "execution_count": 17,
     "metadata": {},
     "output_type": "execute_result"
    }
   ],
   "source": [
    "# CREATE DRIVERS\n",
    "\n",
    "FIRST_NAMES = [\n",
    "    'Salim',\n",
    "    'Arooj',\n",
    "    'Kaiden',\n",
    "    'Rhiana',\n",
    "    'Kealan',\n",
    "    'Myron',\n",
    "    'Korey',\n",
    "    'Krisha',\n",
    "    'Irene',\n",
    "    'Annaliese',\n",
    "    'Komal',\n",
    "    'Ayesha',\n",
    "    'Todd',\n",
    "    'Elora',\n",
    "    'Judy',\n",
    "    'Zane',\n",
    "    'Arlene',\n",
    "    'Rose',\n",
    "    'Herbie',\n",
    "    'Kean',\n",
    "    'Dustin',\n",
    "    'Soraya',\n",
    "    'Merlin',\n",
    "    'Zakariah',\n",
    "    'Danielle',\n",
    "    'Kasim',\n",
    "    'Marie',\n",
    "    'Keely',\n",
    "    'Toni',\n",
    "    'Kerys',\n",
    "    'Orlando',\n",
    "    'Axl',\n",
    "    'Harri',\n",
    "    'Tonisha',\n",
    "    'Farah',\n",
    "    'Mikaela',\n",
    "    'Raymond',\n",
    "    'Effie',\n",
    "    'Agnes',\n",
    "    'Francis',\n",
    "    'Natan',\n",
    "    'Amber',\n",
    "    'Myah',\n",
    "    'Stefano',\n",
    "    'Hafsah',\n",
    "    'Ozan',\n",
    "    'Loui',\n",
    "    'Jarred',\n",
    "    'Claudia',\n",
    "    'Neo',\n",
    "    'Shirley',\n",
    "    'Sameer',\n",
    "    'Jago',\n",
    "    'Ridwan',\n",
    "    'Elisha',\n",
    "    'Abul',\n",
    "    'Alishia',\n",
    "    'April',\n",
    "    'Kristopher',\n",
    "    'Harmony',\n",
    "    'Hibah',\n",
    "    'Anne',\n",
    "    'Angel',\n",
    "    'Calista',\n",
    "    'Dina',\n",
    "    'Kacie',\n",
    "    'Maggie',\n",
    "    'Miriam',\n",
    "    'Catrin',\n",
    "    'Elize',\n",
    "    'Clementine',\n",
    "    'Antonina',\n",
    "    'Jamaal',\n",
    "    'Affan',\n",
    "    'Lexie',\n",
    "    'Donnell',\n",
    "    'Rafe',\n",
    "    'Kristian',\n",
    "    'Olivia',\n",
    "    'Yusra',\n",
    "    'Bronwyn',\n",
    "    'Joel',\n",
    "    'Yvie',\n",
    "    'Beatrix',\n",
    "    'Millie',\n",
    "    'Margie',\n",
    "    'Eva',\n",
    "    'Jacque',\n",
    "    'Collette',\n",
    "    'Roscoe',\n",
    "    'Esmee',\n",
    "    'Skyla',\n",
    "    'Gino',\n",
    "    'Tim',\n",
    "    'Ianis',\n",
    "    'Jamie',\n",
    "    'Haider',\n",
    "    'Vinny',\n",
    "    'Ceara',\n",
    "    'Kaelan',\n",
    "]\n",
    "\n",
    "LAST_NAMES = [\n",
    "    'Cowan',\n",
    "    'Knights',\n",
    "    'Carpenter',\n",
    "    'Mahoney',\n",
    "    'Jarvis',\n",
    "    'Sinclair',\n",
    "    'Wilson',\n",
    "    'Nunez',\n",
    "    'Lowry',\n",
    "    'Robson',\n",
    "    'Coffey',\n",
    "    'Cabrera',\n",
    "    'Glover',\n",
    "    'Brett',\n",
    "    'Whitaker',\n",
    "    'Ramirez',\n",
    "    'Novak',\n",
    "    'Trujillo',\n",
    "    'Mcbride',\n",
    "    'Tapia',\n",
    "    'Sellers',\n",
    "    'Maddox',\n",
    "    'Barker',\n",
    "    'Silva',\n",
    "    'Stephens',\n",
    "    'Palmer',\n",
    "    'Branch',\n",
    "    'Lane',\n",
    "    'Tierney',\n",
    "    'Griffiths',\n",
    "    'Perez',\n",
    "    'Howells',\n",
    "    'Smart',\n",
    "    'Drew',\n",
    "    'Robinson',\n",
    "    'Peters',\n",
    "    'Hutchings',\n",
    "    'Couch',\n",
    "    'Grimes',\n",
    "    'Nicholson',\n",
    "    'Lott',\n",
    "    'Watson',\n",
    "    'Davison',\n",
    "    'Knox',\n",
    "    'Shields',\n",
    "    'Fields',\n",
    "    'Noble',\n",
    "    'Dominguez',\n",
    "    'Haney',\n",
    "    'Fry',\n",
    "    'Pope',\n",
    "    'Kenny',\n",
    "    'Brook',\n",
    "    'Mccaffrey',\n",
    "    'Harding',\n",
    "    'Irving',\n",
    "    'Bradshaw',\n",
    "    'Salt',\n",
    "    'Crouch',\n",
    "    'Taylor',\n",
    "    'Acevedo',\n",
    "    'Velazquez',\n",
    "    'Chester',\n",
    "    'Salgado',\n",
    "    'Frey',\n",
    "    'Barron',\n",
    "    'Tait',\n",
    "    'Callaghan',\n",
    "    'Wilkinson',\n",
    "    'Millington',\n",
    "    'Tate',\n",
    "    'Dennis',\n",
    "    'Cardenas',\n",
    "    'Riddle',\n",
    "    'Gonzalez',\n",
    "    'Valencia',\n",
    "    'Kinney',\n",
    "    'Akhtar',\n",
    "    'Zuniga',\n",
    "    'Mcintosh',\n",
    "    'Hardin',\n",
    "    'Whitehouse',\n",
    "    'Eaton',\n",
    "    'Edwards',\n",
    "    'Levine',\n",
    "    'Grey',\n",
    "    'Hoover',\n",
    "    'Blundell',\n",
    "    'Lowe',\n",
    "    'Lugo',\n",
    "    'Valentine',\n",
    "    'Townsend',\n",
    "    'Mcconnell',\n",
    "    'Yoder',\n",
    "    'Keeling',\n",
    "    'Kaiser',\n",
    "    'Morrow',\n",
    "    'Lovell',\n",
    "    'Medina',\n",
    "    'Webster',\n",
    "]\n",
    "\n",
    "DOMAIN_NAMES = [\n",
    "    'hotmail.com',\n",
    "    'gmail.com',\n",
    "    'oracle.com',\n",
    "    'amazon.com',\n",
    "    'yahoo.ca'\n",
    "]\n",
    "\n",
    "len_fn, len_ln = len(FIRST_NAMES), len(LAST_NAMES)\n",
    "len_dn = len(DOMAIN_NAMES)\n",
    "\n",
    "NUM_NAMES = 1000\n",
    "\n",
    "seen_names = set()\n",
    "\n",
    "all_drivers = []\n",
    "\n",
    "for i in range(NUM_NAMES):\n",
    "    fn = FIRST_NAMES[randint(0, len_fn - 1)]\n",
    "    ln = LAST_NAMES[randint(0, len_ln - 1)]\n",
    "\n",
    "    while (fn, ln) in seen_names:\n",
    "        fn = FIRST_NAMES[randint(0, len_fn - 1)]\n",
    "        ln = LAST_NAMES[randint(0, len_ln - 1)]\n",
    "\n",
    "    seen_names.add((fn, ln))\n",
    "\n",
    "    email = f'{fn[:5].lower()}_{ln.lower()}@{DOMAIN_NAMES[randint(0, len_dn - 1)]}'\n",
    "    ssn = f'{i:0>10}'\n",
    "\n",
    "    all_drivers.append({\n",
    "        'first_name': fn,\n",
    "        'last_name': ln,\n",
    "        'email': email,\n",
    "        'social_security_number': ssn,\n",
    "    })\n",
    "\n",
    "len(all_drivers)"
   ]
  },
  {
   "cell_type": "code",
   "execution_count": 22,
   "metadata": {},
   "outputs": [
    {
     "data": {
      "text/plain": [
       "250"
      ]
     },
     "execution_count": 22,
     "metadata": {},
     "output_type": "execute_result"
    }
   ],
   "source": [
    "# CREATE BUSES\n",
    "make_list = [\n",
    "    # ? source: https://gist.github.com/pcgeek86/78f4cad29dd16961ceeeee654127a0db\n",
    "    'Audi',\n",
    "    'Bentley',\n",
    "    'BMW',\n",
    "    'Bugatti',\n",
    "    'Cadillac',\n",
    "    'Chevrolet',\n",
    "    'Chrysler'\n",
    "]\n",
    "\n",
    "model_list = [f'{i:0>2}' for i in range(1, 51)]\n",
    "\n",
    "NUM_BUSES = 250\n",
    "\n",
    "len_make, len_model = len(make_list), len(model_list)\n",
    "\n",
    "seen_buses = set()\n",
    "all_buses = []\n",
    "for i in range(NUM_BUSES):\n",
    "    make = make_list[randint(0, len_make - 1)]\n",
    "    model = f'{make[:2]}-{model_list[randint(0, len_model - 1)]}'\n",
    "\n",
    "    while (make, model) in seen_buses:\n",
    "        make = make_list[randint(0, len_make - 1)]\n",
    "        model = f'{make[:2]}-{model_list[randint(0, len_model - 1)]}'\n",
    "\n",
    "    seen_buses.add((make, model))\n",
    "    all_buses.append({\n",
    "        'model': model,\n",
    "        'make': make,\n",
    "    })\n",
    "\n",
    "len(all_buses)"
   ]
  },
  {
   "cell_type": "code",
   "execution_count": 76,
   "metadata": {},
   "outputs": [],
   "source": [
    "# CREATE SCHEDULES\n",
    "from datetime import datetime, timedelta, time\n",
    "from src.common import DT_FMT\n",
    "\n",
    "DATE_FMT = '%Y-%m-%d'\n",
    "TIME_FMT = '%H:%M'\n",
    "DT_FMT = f'{DATE_FMT} {TIME_FMT}'\n",
    "\n",
    "DATE_START_STR, DATE_END_STR = '2022-01-01', '2022-04-01'\n",
    "TIME_START_STR, TIME_END_STR = '06:00', '02:00'\n",
    "\n",
    "NUM_SLOTS = int(1e6)"
   ]
  },
  {
   "cell_type": "code",
   "execution_count": 78,
   "metadata": {},
   "outputs": [],
   "source": [
    "delta: timedelta = datetime.strptime(DATE_END_STR, DATE_FMT) - datetime.strptime(DATE_START_STR, DATE_FMT)\n",
    "DT_START, DT_END = list(map(lambda dt: datetime.strptime(dt, DATE_FMT), (DATE_START_STR, DATE_END_STR)))\n",
    "T_START, T_END = list(map(lambda t: time(*map(int, t.split(':'))), (TIME_START_STR, TIME_END_STR)))\n"
   ]
  },
  {
   "cell_type": "code",
   "execution_count": 63,
   "metadata": {},
   "outputs": [
    {
     "data": {
      "text/plain": [
       "0"
      ]
     },
     "execution_count": 63,
     "metadata": {},
     "output_type": "execute_result"
    }
   ],
   "source": [
    "# import pandas as pd\n",
    "def random_time_shift(mu=4, sigma=1):\n",
    "    return max(1, int(gauss(mu, sigma)))\n"
   ]
  },
  {
   "cell_type": "code",
   "execution_count": 96,
   "metadata": {},
   "outputs": [],
   "source": [
    "class BusSchedule():\n",
    "    def __init__(self, id: int):\n",
    "        self.id = id\n",
    "\n",
    "        self.t_start = T_START.replace(\n",
    "            hour=T_START.hour + abs(int(gauss(0, 0.5))),\n",
    "            minute=T_START.minute + abs(int(gauss(0, 10)))\n",
    "        )\n",
    "\n",
    "        self.trip_duration = timedelta(minutes=randint(20, 60))\n",
    "        self.every = self.trip_duration + timedelta(\n",
    "            hours=abs(int(gauss(0, 0.4))),\n",
    "            minutes=randint(20, 40)\n",
    "        )\n",
    "\n",
    "        def __repr__(self):\n",
    "            return f'@{self.t_start} [{self.trip_duration}] every {self.every}'\n",
    "\n",
    "        def __str__(self): return repr(self)\n",
    "\n",
    "        def __dict__(self):\n",
    "            return {\n",
    "                'id': self.id,\n",
    "                't_start': self.t_start,\n",
    "                'trip_duration': self.trip_duration,\n",
    "                'every': self.every,\n",
    "            }\n",
    "\n",
    "# for bus in all_buses: pass"
   ]
  },
  {
   "cell_type": "code",
   "execution_count": 97,
   "metadata": {},
   "outputs": [
    {
     "ename": "TypeError",
     "evalue": "'dict' object is not callable",
     "output_type": "error",
     "traceback": [
      "\u001b[0;31m---------------------------------------------------------------------------\u001b[0m",
      "\u001b[0;31mTypeError\u001b[0m                                 Traceback (most recent call last)",
      "\u001b[1;32m/home/ray/projects/api_project/tests.ipynb Cell 12'\u001b[0m in \u001b[0;36m<cell line: 2>\u001b[0;34m()\u001b[0m\n\u001b[1;32m      <a href='vscode-notebook-cell:/home/ray/projects/api_project/tests.ipynb#ch0000028?line=0'>1</a>\u001b[0m bs \u001b[39m=\u001b[39m BusSchedule(\u001b[39mid\u001b[39m\u001b[39m=\u001b[39m\u001b[39m1\u001b[39m)\n\u001b[0;32m----> <a href='vscode-notebook-cell:/home/ray/projects/api_project/tests.ipynb#ch0000028?line=1'>2</a>\u001b[0m bs\u001b[39m.\u001b[39;49m\u001b[39m__dict__\u001b[39;49m()\n",
      "\u001b[0;31mTypeError\u001b[0m: 'dict' object is not callable"
     ]
    }
   ],
   "source": [
    "bs = BusSchedule(id=1)\n",
    "bs.__dict__"
   ]
  },
  {
   "cell_type": "markdown",
   "metadata": {},
   "source": [
    "#### POPULATE OBJECTS IN DB"
   ]
  },
  {
   "cell_type": "code",
   "execution_count": null,
   "metadata": {},
   "outputs": [],
   "source": [
    "# APP ROUGH DRAFT\n",
    "import logging\n",
    "import coloredlogs\n",
    "\n",
    "import yaml\n",
    "from flask import Flask\n",
    "\n",
    "from src.db_model.db_models import db\n",
    "from src.schedule import schedule_bp, bus_bp, driver_bp\n",
    "from src.schedule import Schedule, Bus, Driver\n",
    "\n",
    "coloredlogs.install(level='DEBUG')\n",
    "\n",
    "\n",
    "log = logging.getLogger(__name__)\n",
    "\n",
    "\n",
    "def create_app():\n",
    "    app = Flask(__name__, instance_relative_config=True)\n",
    "\n",
    "    with open('volume/config/flask.yml', mode='r') as f:\n",
    "        app_config: dict = yaml.load(f, Loader=yaml.Loader)\n",
    "\n",
    "    app.config.from_mapping(app_config)\n",
    "\n",
    "    log.debug(f'using {app_config[\"SQLALCHEMY_DATABASE_URI\"]}')\n",
    "\n",
    "    db.app = app\n",
    "    db.init_app(app=app)\n",
    "\n",
    "    app.register_blueprint(schedule_bp)\n",
    "    app.register_blueprint(bus_bp)\n",
    "    app.register_blueprint(driver_bp)\n",
    "\n",
    "    return app, db\n",
    "\n",
    "_, db = create_app()"
   ]
  },
  {
   "cell_type": "code",
   "execution_count": null,
   "metadata": {},
   "outputs": [],
   "source": [
    "# DB CREATE ALL\n",
    "# // db.create_all()"
   ]
  },
  {
   "cell_type": "code",
   "execution_count": 20,
   "metadata": {},
   "outputs": [],
   "source": [
    "# POPULATE DRIVERS\n",
    "for driver in all_drivers:\n",
    "    db.session.add(Driver(**driver))\n",
    "    db.session.commit()\n"
   ]
  },
  {
   "cell_type": "code",
   "execution_count": 24,
   "metadata": {},
   "outputs": [],
   "source": [
    "# POPULATE BUSES\n",
    "for bus in all_buses:\n",
    "    db.session.add(Bus(**bus))\n",
    "    db.session.commit()"
   ]
  },
  {
   "cell_type": "markdown",
   "metadata": {},
   "source": [
    "#### SQL"
   ]
  },
  {
   "cell_type": "code",
   "execution_count": null,
   "metadata": {
    "vscode": {
     "languageId": "sql"
    }
   },
   "outputs": [],
   "source": [
    "-- Active: 1658891856940@@127.0.0.1@3306@Schedules\n",
    "INSERT INTO bus (model, make) VALUES ('M01', 'VW');"
   ]
  }
 ],
 "metadata": {
  "interpreter": {
   "hash": "1927d0a06438f72a3516817cb001463fbd6ea9a280f5bbd132375b05c925fdc4"
  },
  "kernelspec": {
   "display_name": "Python 3.10.4 ('venv': venv)",
   "language": "python",
   "name": "python3"
  },
  "language_info": {
   "codemirror_mode": {
    "name": "ipython",
    "version": 3
   },
   "file_extension": ".py",
   "mimetype": "text/x-python",
   "name": "python",
   "nbconvert_exporter": "python",
   "pygments_lexer": "ipython3",
   "version": "3.10.4"
  },
  "orig_nbformat": 4
 },
 "nbformat": 4,
 "nbformat_minor": 2
}
